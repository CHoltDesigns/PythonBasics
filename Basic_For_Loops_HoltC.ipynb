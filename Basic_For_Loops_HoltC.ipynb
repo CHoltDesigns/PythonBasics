{
  "nbformat": 4,
  "nbformat_minor": 0,
  "metadata": {
    "colab": {
      "provenance": []
    },
    "kernelspec": {
      "name": "python3",
      "display_name": "Python 3"
    },
    "language_info": {
      "name": "python"
    }
  },
  "cells": [
    {
      "cell_type": "code",
      "execution_count": null,
      "metadata": {
        "id": "ETdwV4XhZ6NT"
      },
      "outputs": [],
      "source": [
        "# 1. Basic - Print all integers from 0 to 150. Hint: use a for loop and range.\n",
        "for x in range(151): \n",
        "  print(x) "
      ]
    },
    {
      "cell_type": "code",
      "source": [
        "# 2. Multiples of Five (Optional) - Print all the multiples of 5 from 5 to 1,000\n",
        "for x in range(5, 1001, 5):\n",
        "  print(x) "
      ],
      "metadata": {
        "id": "V1R2f1KyaJ2_"
      },
      "execution_count": null,
      "outputs": []
    },
    {
      "cell_type": "code",
      "source": [
        "# 3. Counting, the Dojo Way(Optional) - Print integers 1 to 100. If divisible by 5, print \"Coding\" instead. If divisible by 10, print \"Coding Dojo\".\n",
        "for x in range(1, 101): \n",
        "  if x%10==0: \n",
        "      print(\"Coding Dojo\") \n",
        "  elif x%5==0 and x%10!=0:\n",
        "      print(\"Coding\") "
      ],
      "metadata": {
        "id": "gcI0qCriaJ-p"
      },
      "execution_count": null,
      "outputs": []
    },
    {
      "cell_type": "code",
      "source": [
        "# 4. Whoa. That Sucker's Huge(Optional) - Add odd integers from 0 to 500,000, and print the final sum.\n"
      ],
      "metadata": {
        "id": "JARQE95LaKJf"
      },
      "execution_count": null,
      "outputs": []
    },
    {
      "cell_type": "code",
      "source": [
        "# 5. Countdown by Fours(Optional) - Print positive numbers starting at 2018, counting down by fours."
      ],
      "metadata": {
        "id": "gKYsq-_8aKSZ"
      },
      "execution_count": null,
      "outputs": []
    },
    {
      "cell_type": "code",
      "source": [
        "# 6. Flexible Counter (Optional) - Set three variables: lowNum, highNum, mult. Starting at lowNum and going through highNum, print only the integers that are a multiple of mult. For example, if lowNum=2, highNum=9, and mult=3, the loop should print 3, 6, 9 (on successive lines)"
      ],
      "metadata": {
        "id": "TSVSloLcaKZ7"
      },
      "execution_count": null,
      "outputs": []
    }
  ]
}