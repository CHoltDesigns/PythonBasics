{
  "nbformat": 4,
  "nbformat_minor": 0,
  "metadata": {
    "colab": {
      "provenance": []
    },
    "kernelspec": {
      "name": "python3",
      "display_name": "Python 3"
    },
    "language_info": {
      "name": "python"
    }
  },
  "cells": [
    {
      "cell_type": "code",
      "execution_count": null,
      "metadata": {
        "id": "ETdwV4XhZ6NT"
      },
      "outputs": [],
      "source": [
        "# 1. Basic - Print all integers from 0 to 150. Hint: use a for loop and range.\n",
        "\n",
        "for x in range(151): \n",
        "  print(x) "
      ]
    },
    {
      "cell_type": "code",
      "source": [
        "# 2. Multiples of Five (Optional) - Print all the multiples of 5 from 5 to 1,000\n",
        "\n",
        "for x in range(5, 1001, 5):\n",
        "  print(x) "
      ],
      "metadata": {
        "id": "V1R2f1KyaJ2_"
      },
      "execution_count": null,
      "outputs": []
    },
    {
      "cell_type": "code",
      "source": [
        "# 3. Counting, the Dojo Way(Optional) - Print integers 1 to 100. If divisible by 5, print \"Coding\" instead. If divisible by 10, print \"Coding Dojo\".\n",
        "\n",
        "for x in range(1, 101): \n",
        "  if x%10==0: \n",
        "      print(\"Coding Dojo\") \n",
        "  elif x%5==0 and x%10!=0:\n",
        "      print(\"Coding\") "
      ],
      "metadata": {
        "id": "gcI0qCriaJ-p"
      },
      "execution_count": null,
      "outputs": []
    },
    {
      "cell_type": "code",
      "source": [
        "# 4. Whoa. That Sucker's Huge(Optional) - Add odd integers from 0 to 500,000, and print the final sum.\n",
        "\n",
        "# Set variables, min and max.\n",
        "min = 0\n",
        "max = 500000\n",
        "Oddtotal = 0\n",
        "\n",
        "# setting 'n' variable in range to be between 0 and 500000.\n",
        "# use \"if\" condition to divide variable from the range jby 2 and set to \"not equal to 0\".\n",
        "for n in range(min, max+1): \n",
        "  if(n % 2 != 0):\n",
        "    print(\"{0}\".format(n))\n",
        "    Oddtotal = Oddtotal + n\n",
        "\n",
        "print(\"The Sum of Odd Numbers from {0} to {1} = {2}\".format(min, max, Oddtotal)) # adds all values from 0 to 500000 that are odd numbers and prints total."
      ],
      "metadata": {
        "id": "JARQE95LaKJf"
      },
      "execution_count": null,
      "outputs": []
    },
    {
      "cell_type": "code",
      "source": [
        "# 5. Countdown by Fours(Optional) - Print positive numbers starting at 2018, counting down by fours.\n",
        "\n",
        "#def count_down() used to \"define\" or create the function needed.\n",
        "def count_down(): \n",
        "\n",
        "  # maxN is the variable name we are using to define the postive number of 2018 provided above.\n",
        "  maxN = 2018 \n",
        "\n",
        "  # As long as the variable (maxN) is greater than 0, then the program will continue to run solutions.\n",
        "  # We will set the variable to equal itself while subtracting (4) from it every time the solution is ran which contributes to the \"count down\" feature needed by (4).\n",
        "  while maxN > 0:\n",
        "    print(maxN)\n",
        "    maxN = maxN - 4\n",
        "\n",
        "count_down() # End of function defined."
      ],
      "metadata": {
        "id": "gKYsq-_8aKSZ"
      },
      "execution_count": null,
      "outputs": []
    },
    {
      "cell_type": "code",
      "source": [
        "# 6. Flexible Counter (Optional) - Set three variables: lowNum, highNum, mult. Starting at lowNum and going through highNum, print only the integers that are a multiple of mult. \n",
        "# For example, if lowNum=2, highNum=9, and mult=3, the loop should print 3, 6, 9 (on successive lines)\n",
        "\n",
        "# Set variables for example above.\n",
        "lowNum = 2\n",
        "highNum = 9\n",
        "mult = 3\n",
        "\n",
        "# Using for loop w/ range along w/ if condition.\n",
        "# If condition checks to see if the \"n\" from within the range which would be 2 to 9 since that is our low and high values.\n",
        "# If \"n\" is a multiple of mult within the range, then is should ONLY print those. Without the \"+1\" next to the highNum, we would only see 3 and 6 printed once ran. Otherwise, change \"highNum\" to 10.\n",
        "for n in range(lowNum, highNum+1):\n",
        "  if n % mult == 0:\n",
        "    print(n) \n"
      ],
      "metadata": {
        "id": "TSVSloLcaKZ7"
      },
      "execution_count": null,
      "outputs": []
    }
  ]
}